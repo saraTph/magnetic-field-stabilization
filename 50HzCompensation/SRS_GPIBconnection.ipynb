{
 "cells": [
  {
   "cell_type": "markdown",
   "id": "74b6fe90-c335-4909-886c-67a3eb4a9ca1",
   "metadata": {},
   "source": [
    "# How to use SRS DS345 to generate arbitrary functions through GPIB connection\n",
    "## GPIB connection with the SRS function generator\n",
    "To connect the instrument through GPIB and program it from the PC it is necessary to install the Agilent program [Arbitrary waveform composer softwere](https://www.thinksrs.com/downloads/soft.html).\n",
    "Install it following the instructions in the zip file.<br>\n",
    "\n",
    "Link the SRS to the PC through GPIB. Open the \"Arbitrary waveform composer\" (AWC) program. <br>\n",
    "To set the connection with the instrument click on: Set DS34x/RS232/GPIB Connect... then click on GPIB and select your instrument. Finally, press ok.\n",
    "\n",
    "## Arbitrary function generation\n",
    "You can now define your waveform or upload it from a txt file.\n",
    "\n",
    "txt file format:\n",
    "AWC data is saved as ASCII text. Each line of the file consists of a single numerical value followed by a carriage return/linefeed. <br>\n",
    "The __first line__ is the __number of data points in the waveform__. <br>\n",
    "The __second line__ is the __sampling frequency in Hz__. <br>\n",
    "The __third line__ is the __trigger source__.<br>\n",
    "The __fourth line__ is the __internal trigger rate__. <br>\n",
    "To set the trigger source: 0 = single, 1 = internal, 2 = + Ext, 3 = - Ext, 4 = line.<br>\n",
    "ex. trig source 2 waits for the positive slope of an external trig\n",
    "\n",
    "The remainder of the lines are the waveform amplitude points in V. There is one line for each point. There must be a minimum of 8 points and a maximum of 16,300 points for each waveform. <br>\n",
    "The value of the data is the waveform amplitude in volts at that data point. Sample files with extension.txt are included with the AWC program distribution.<br>\n",
    "\n",
    "Use AWC to upload the txt file. Hence you can send the function to the instrument: Send Data/waveform/<br>\n",
    "\n",
    "## Setting of the SRS instrument \n",
    "The instrument can be set in that way if one wants to generate the functiona as a burst at a given trig signal:<br>\n",
    "FUNCTION has to be set on ARB <br>\n",
    "SWEEP/MOD has to be set on BURST<br>\n",
    "the led MOD/SWP has to be on if one desires to trigger the instrument.<br>\n",
    "\n",
    "## Generate the desired waveform\n",
    "One has to scan the 50 Hz modulation of the magnetic field with the atoms. This is done with a Ramsey sequence with the atomic polatization P=0 and scanning the time from 0 to 20 ms between open CC and the first pulse. Once the spin fraction oscillations are captured you can use the program \"50HzMod_compensation.ipynb\" to analize the signal so to get the main frequencies contributing to the noise. The signal is so fitted and rescaled properly with the known calibration for the compensation coil \"comp Y\". The waveform is so saved and exported in a txt file ready to be unploaded to to SRS instrument. \n",
    "\n",
    "\n",
    "## Notes\n",
    "- The SRS will give as optput a constant voltage eaul to the ampitude of the first point of your waveform. then once triggered it will modulate the voltage as desired. <br>\n",
    "If one wants 0 voltage when the function is not triggered it is necessary to set the first point of the function to 0\n",
    "\n",
    "- When scanning the B field modulation we perform this Cicero sequence:<br>\n",
    "OpenCC (trigged to 50 Hz line) + 20 ms waiting time + scan time (0 to 20 ms) + pi/2 pulse + waiting time + pi/2 pulse <br>\n",
    "The 20 ms waiting time is added since if not the first point (the first measure of the fraction of atoms is really far from what it is expected)."
   ]
  },
  {
   "cell_type": "code",
   "execution_count": null,
   "id": "a3a1e1ac-42e5-4843-89fc-6488217c6ae7",
   "metadata": {},
   "outputs": [],
   "source": []
  }
 ],
 "metadata": {
  "kernelspec": {
   "display_name": "Python 3 (ipykernel)",
   "language": "python",
   "name": "python3"
  },
  "language_info": {
   "codemirror_mode": {
    "name": "ipython",
    "version": 3
   },
   "file_extension": ".py",
   "mimetype": "text/x-python",
   "name": "python",
   "nbconvert_exporter": "python",
   "pygments_lexer": "ipython3",
   "version": "3.9.13"
  }
 },
 "nbformat": 4,
 "nbformat_minor": 5
}
