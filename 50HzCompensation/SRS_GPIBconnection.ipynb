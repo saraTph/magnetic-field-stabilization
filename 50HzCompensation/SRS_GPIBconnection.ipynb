{
  "metadata": {
    "kernelspec": {
      "name": "python",
      "display_name": "Python (Pyodide)",
      "language": "python"
    },
    "language_info": {
      "codemirror_mode": {
        "name": "python",
        "version": 3
      },
      "file_extension": ".py",
      "mimetype": "text/x-python",
      "name": "python",
      "nbconvert_exporter": "python",
      "pygments_lexer": "ipython3",
      "version": "3.8"
    }
  },
  "nbformat_minor": 5,
  "nbformat": 4,
  "cells": [
    {
      "id": "74b6fe90-c335-4909-886c-67a3eb4a9ca1",
      "cell_type": "markdown",
      "source": "# How to use SRS DS345 to generate arbitrary functions through GPIB connection\n## GPIB connection with the SRS function generator\nTo connect the instrument through GPIB and program it from the PC it is necessary to install the Agilent program [Arbitrary waveform composer softwere](https://www.thinksrs.com/downloads/soft.html).\nInstall it following the instructions in the zip file.<br>\n\nLink the SRS to the PC through GPIB. Open the \"Arbitrary waveform composer\" (AWC) program. <br>\nTo set the connection with the instrument click on: Set DS34x/RS232/GPIB Connect... then click on GPIB and select your instrument. Finally, press ok.\n\n## Arbitrary function generation\nYou can now define your waveform or upload it from a txt file.\n\ntxt file format:\nAWC data is saved as ASCII text. Each line of the file consists of a single numerical value followed by a carriage return/linefeed. <br>\nThe __first line__ is the __number of data points in the waveform__. <br>\nThe __second line__ is the __sampling frequency in Hz__. <br>\nThe __third line__ is the __trigger source__.<br>\nThe __fourth line__ is the __internal trigger rate__. <br>\nTo set the trigger source: 0 = single, 1 = internal, 2 = + Ext, 3 = - Ext, 4 = line.<br>\nex. trig source 2 waits for the positive slope of an external trig\n\nThe remainder of the lines are the waveform amplitude points in V. There is one line for each point. There must be a minimum of 8 points and a maximum of 16,300 points for each waveform. <br>\nThe value of the data is the waveform amplitude in volts at that data point. Sample files with extension.txt are included with the AWC program distribution.<br>\n\nUse AWC to upload the txt file. Hence you can send the function to the instrument: Send Data/waveform/<br>\n\n## Setting of the SRS instrument \nThe instrument can be set in that way if one wants to generate the functiona as a burst at a given trig signal:<br>\nFUNCTION has to be set on ARB <br>\nSWEEP/MOD has to be set on BURST<br>\nthe led MOD/SWP has to be on if one desires to trigger the instrument.<br>\n\n## Notes\nthe SRS will give as optput a constant voltage eaul to the ampitude of the first point of your waveform. then once triggered it will modulate the voltage as desired. <br>\nIf one wants 0 voltage when the function is not triggered it is necessary to set the pirst point of the function to 0",
      "metadata": {}
    },
    {
      "id": "a3a1e1ac-42e5-4843-89fc-6488217c6ae7",
      "cell_type": "code",
      "source": "",
      "metadata": {
        "trusted": true
      },
      "outputs": [],
      "execution_count": null
    }
  ]
}